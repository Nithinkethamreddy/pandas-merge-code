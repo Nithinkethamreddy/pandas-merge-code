{
  "cells": [
    {
      "cell_type": "code",
      "execution_count": 4,
      "metadata": {
        "colab": {
          "base_uri": "https://localhost:8080/"
        },
        "id": "wAn9Dww2Vdjx",
        "outputId": "b3fda057-f5de-4813-f453-72e2fdef2ca7"
      },
      "outputs": [
        {
          "name": "stdout",
          "output_type": "stream",
          "text": [
            "data\n"
          ]
        }
      ],
      "source": [
        "for i in [\"data\"]:\n",
        "  print(i)"
      ]
    },
    {
      "cell_type": "code",
      "execution_count": 9,
      "metadata": {
        "colab": {
          "base_uri": "https://localhost:8080/"
        },
        "id": "_I_yHhcMVeCf",
        "outputId": "7de4bcad-df16-445f-ed98-760bded52a96"
      },
      "outputs": [
        {
          "data": {
            "text/plain": [
              "6"
            ]
          },
          "execution_count": 9,
          "metadata": {},
          "output_type": "execute_result"
        }
      ],
      "source": [
        "len([1,2,3,4,[5,6],[7,8]])"
      ]
    },
    {
      "cell_type": "code",
      "execution_count": 10,
      "metadata": {
        "colab": {
          "base_uri": "https://localhost:8080/"
        },
        "id": "mIxuPrhWVeFv",
        "outputId": "c84d9420-aefd-48b4-d09b-06d577e4561d"
      },
      "outputs": [
        {
          "name": "stdout",
          "output_type": "stream",
          "text": [
            "3\n",
            "4\n",
            "5\n"
          ]
        }
      ],
      "source": [
        "for i in[1,2,3]:\n",
        "  print(2+i)\n"
      ]
    },
    {
      "cell_type": "code",
      "execution_count": 11,
      "metadata": {
        "colab": {
          "base_uri": "https://localhost:8080/"
        },
        "id": "jzyNFL31VeIv",
        "outputId": "746a1fdf-88c9-4f01-9856-8c3670313f21"
      },
      "outputs": [
        {
          "name": "stdout",
          "output_type": "stream",
          "text": [
            "2\n",
            "2\n",
            "2\n",
            "2\n"
          ]
        }
      ],
      "source": [
        "for i in [2,4,6,8]:\n",
        "  print(2)"
      ]
    },
    {
      "cell_type": "code",
      "execution_count": 12,
      "metadata": {
        "colab": {
          "base_uri": "https://localhost:8080/"
        },
        "id": "Pp65GTFRVeL2",
        "outputId": "a0e6ea04-319d-41f8-fa93-a97676d6b845"
      },
      "outputs": [
        {
          "name": "stdout",
          "output_type": "stream",
          "text": [
            "0\n",
            "1\n",
            "2\n",
            "3\n",
            "4\n",
            "5\n",
            "6\n",
            "7\n",
            "8\n",
            "9\n"
          ]
        }
      ],
      "source": [
        "for i in range(0,10):\n",
        "  print(i)"
      ]
    },
    {
      "cell_type": "code",
      "execution_count": 13,
      "metadata": {
        "colab": {
          "base_uri": "https://localhost:8080/"
        },
        "id": "B8kD8yrHVeOy",
        "outputId": "41821fa7-7625-48b5-93cb-9989c5c3ae25"
      },
      "outputs": [
        {
          "name": "stdout",
          "output_type": "stream",
          "text": [
            "0,1,2,3,4,5,6,7,8,9,"
          ]
        }
      ],
      "source": [
        "for i in range(0,10):\n",
        "  print(i,end=',')"
      ]
    },
    {
      "cell_type": "code",
      "execution_count": 14,
      "metadata": {
        "colab": {
          "base_uri": "https://localhost:8080/"
        },
        "id": "7L7w5qiiVeXy",
        "outputId": "526e5038-4f2e-4993-cc70-8e4534e51c55"
      },
      "outputs": [
        {
          "name": "stdout",
          "output_type": "stream",
          "text": [
            "0,2,4,6,8,"
          ]
        }
      ],
      "source": [
        "for i in range(0,10,2):\n",
        "  print(i,end=',')"
      ]
    },
    {
      "cell_type": "code",
      "execution_count": 15,
      "metadata": {
        "colab": {
          "base_uri": "https://localhost:8080/"
        },
        "id": "VEhy3QL9VebR",
        "outputId": "c0e21261-9b52-4127-d9b6-34cf8e5d92a8"
      },
      "outputs": [
        {
          "name": "stdout",
          "output_type": "stream",
          "text": [
            "0,4,8,"
          ]
        }
      ],
      "source": [
        "for i in range(0,10,4):\n",
        "  print(i,end=',')"
      ]
    },
    {
      "cell_type": "code",
      "execution_count": 16,
      "metadata": {
        "colab": {
          "base_uri": "https://localhost:8080/"
        },
        "id": "9zLq89DDfvxa",
        "outputId": "22ddf5d0-3f32-4658-960a-1ebab6567b5e"
      },
      "outputs": [
        {
          "name": "stdout",
          "output_type": "stream",
          "text": [
            "0,2,4,6,8,10,12,14,16,18,"
          ]
        }
      ],
      "source": [
        "for i in range(0,20,2):\n",
        "  print(i,end=',')"
      ]
    },
    {
      "cell_type": "code",
      "execution_count": 17,
      "metadata": {
        "colab": {
          "base_uri": "https://localhost:8080/"
        },
        "id": "wDKHaz7vfv0L",
        "outputId": "56e56206-16bc-404d-bee8-5a250f5db04d"
      },
      "outputs": [
        {
          "name": "stdout",
          "output_type": "stream",
          "text": [
            "0-2-4-6-8-10-12-14-16-18-20-22-24-26-28-30-32-34-36-38-40-42-44-46-48-50-52-54-56-58-60-62-64-66-68-70-72-74-76-78-80-82-84-86-88-90-92-94-96-98-"
          ]
        }
      ],
      "source": [
        "for i in range(0,100,2):\n",
        "  print(i,end='-')"
      ]
    },
    {
      "cell_type": "code",
      "execution_count": 18,
      "metadata": {
        "colab": {
          "base_uri": "https://localhost:8080/"
        },
        "id": "MyvoO_k-fv3F",
        "outputId": "78a915e5-8c83-496f-ca8c-5dca7ef8a201"
      },
      "outputs": [
        {
          "name": "stdout",
          "output_type": "stream",
          "text": [
            "0,3,6,9,12,15,18,21,24,27,"
          ]
        }
      ],
      "source": [
        "for i in range(0,30,3):\n",
        "  print(i,end=',')"
      ]
    },
    {
      "cell_type": "code",
      "execution_count": 19,
      "metadata": {
        "colab": {
          "base_uri": "https://localhost:8080/"
        },
        "id": "zQgA8QU5fv5s",
        "outputId": "b4f50faa-5fa8-4c99-b22a-a7191cb28d30"
      },
      "outputs": [
        {
          "name": "stdout",
          "output_type": "stream",
          "text": [
            "10,9,8,7,6,5,4,3,2,1,"
          ]
        }
      ],
      "source": [
        "for i in range(10,0,-1):\n",
        "  print(i,end=',')"
      ]
    },
    {
      "cell_type": "code",
      "execution_count": 20,
      "metadata": {
        "colab": {
          "base_uri": "https://localhost:8080/"
        },
        "id": "fnwOJxEtfv8O",
        "outputId": "2ddd7722-65b6-43fd-efae-f560cd3c3252"
      },
      "outputs": [
        {
          "name": "stdout",
          "output_type": "stream",
          "text": [
            "*\n",
            "**\n",
            "***\n",
            "****\n"
          ]
        }
      ],
      "source": [
        "for i in range (1,5):\n",
        "  print(i*\"*\")"
      ]
    },
    {
      "cell_type": "code",
      "execution_count": 23,
      "metadata": {
        "colab": {
          "base_uri": "https://localhost:8080/"
        },
        "id": "agjA_aGwfv_M",
        "outputId": "6a81eafa-0d70-4902-ad90-3a84ecd3c537"
      },
      "outputs": [
        {
          "name": "stdout",
          "output_type": "stream",
          "text": [
            "**********\n",
            "******\n",
            "**\n"
          ]
        }
      ],
      "source": [
        ")for i in range (10,0,-4):\n",
        "  print(i*\"*\""
      ]
    },
    {
      "cell_type": "code",
      "execution_count": 26,
      "metadata": {
        "colab": {
          "base_uri": "https://localhost:8080/"
        },
        "id": "MGAOWc9LfwCD",
        "outputId": "24056eac-8878-460e-a9a5-905d2448bdd3"
      },
      "outputs": [
        {
          "name": "stdout",
          "output_type": "stream",
          "text": [
            "##########\n",
            "########\n",
            "######\n",
            "####\n",
            "##\n"
          ]
        }
      ],
      "source": [
        "for i in range (10,0,-2):\n",
        "  print(i*\"#\")"
      ]
    },
    {
      "cell_type": "code",
      "execution_count": 29,
      "metadata": {
        "colab": {
          "base_uri": "https://localhost:8080/"
        },
        "id": "aQ7VqY5-fwE1",
        "outputId": "e35e6295-590d-44e3-e335-bf04b09c4582"
      },
      "outputs": [
        {
          "name": "stdout",
          "output_type": "stream",
          "text": [
            "******\n",
            "****\n",
            "**\n"
          ]
        }
      ],
      "source": [
        "for i in range (6,1,-2):\n",
        "  print(i*\"*\")"
      ]
    },
    {
      "cell_type": "code",
      "execution_count": 33,
      "metadata": {
        "colab": {
          "base_uri": "https://localhost:8080/"
        },
        "id": "nmjXVcUnfwNA",
        "outputId": "596afca4-38d4-4d1b-92ee-ff73d376c0c3"
      },
      "outputs": [
        {
          "name": "stdout",
          "output_type": "stream",
          "text": [
            "5\n",
            "4\n",
            "3\n",
            "2\n",
            "1\n"
          ]
        }
      ],
      "source": [
        "for i in range(1,6):\n",
        "  print(6-i)"
      ]
    },
    {
      "cell_type": "code",
      "execution_count": 36,
      "metadata": {
        "colab": {
          "base_uri": "https://localhost:8080/"
        },
        "id": "O0N7UK-ZfwPY",
        "outputId": "321e75ec-f569-41b3-eeed-da224b3dfcc0"
      },
      "outputs": [
        {
          "name": "stdout",
          "output_type": "stream",
          "text": [
            "2\n",
            "1\n",
            "0\n",
            "-1\n",
            "-2\n"
          ]
        }
      ],
      "source": [
        "for i in range(1,6):\n",
        " print(3-i)"
      ]
    },
    {
      "cell_type": "code",
      "execution_count": 35,
      "metadata": {
        "colab": {
          "base_uri": "https://localhost:8080/"
        },
        "id": "gAF_QAYTfwXs",
        "outputId": "dc4a3bf4-8c43-4ddc-a5c7-2cfc66ecc1a1"
      },
      "outputs": [
        {
          "name": "stdout",
          "output_type": "stream",
          "text": [
            "0,1,2,3,4,5,6,7,8,9,"
          ]
        }
      ],
      "source": [
        "for i in range (0,10):\n",
        "  print(i,end=',')"
      ]
    },
    {
      "cell_type": "code",
      "execution_count": 37,
      "metadata": {
        "colab": {
          "base_uri": "https://localhost:8080/"
        },
        "id": "fNunAJE1fwao",
        "outputId": "d69ffb3c-4cc5-4eee-f723-8d169a15ae87"
      },
      "outputs": [
        {
          "name": "stdout",
          "output_type": "stream",
          "text": [
            "data\n",
            "data\n",
            "data\n",
            "data\n",
            "data\n",
            "data\n",
            "data\n",
            "data\n",
            "data\n",
            "data\n",
            "data\n",
            "data\n",
            "data\n",
            "data\n",
            "data\n",
            "data\n",
            "data\n",
            "data\n",
            "data\n",
            "data\n",
            "data\n",
            "data\n",
            "data\n",
            "data\n",
            "data\n",
            "data\n",
            "data\n",
            "data\n",
            "data\n",
            "data\n"
          ]
        }
      ],
      "source": [
        "for i in range (0,10):\n",
        "  print(\"data\")\n",
        "  print(\"data\")\n",
        "  print(\"data\")"
      ]
    },
    {
      "cell_type": "code",
      "execution_count": 40,
      "metadata": {
        "colab": {
          "base_uri": "https://localhost:8080/"
        },
        "id": "mY1ebKmyfwgh",
        "outputId": "741901de-93fe-4558-9b4f-b677f7136eb7"
      },
      "outputs": [
        {
          "name": "stdout",
          "output_type": "stream",
          "text": [
            "DATA\n",
            "data\n",
            "DATA\n",
            "data\n"
          ]
        }
      ],
      "source": [
        "for i in range(0,2):\n",
        "  print(\"data\".upper())\n",
        "  print(\"data\".lower())"
      ]
    },
    {
      "cell_type": "code",
      "execution_count": 41,
      "metadata": {
        "colab": {
          "base_uri": "https://localhost:8080/"
        },
        "id": "QRzf5C9tfwjG",
        "outputId": "f4fc0602-1f7a-468c-a200-34e539fcd48a"
      },
      "outputs": [
        {
          "name": "stdout",
          "output_type": "stream",
          "text": [
            "e\n",
            "e\n",
            "e\n",
            "e\n",
            "e\n"
          ]
        }
      ],
      "source": [
        "for i in range (0,10,2):\n",
        "    print(\"data science\".split()[-1][-1])"
      ]
    },
    {
      "cell_type": "code",
      "execution_count": 42,
      "metadata": {
        "colab": {
          "base_uri": "https://localhost:8080/"
        },
        "id": "NVpO8WJWfwmC",
        "outputId": "c8f1b1fb-c2dc-4282-a3df-cb514a521343"
      },
      "outputs": [
        {
          "data": {
            "text/plain": [
              "['data', 'science']"
            ]
          },
          "execution_count": 42,
          "metadata": {},
          "output_type": "execute_result"
        }
      ],
      "source": [
        "\"data science\".split()"
      ]
    },
    {
      "cell_type": "code",
      "execution_count": 44,
      "metadata": {
        "colab": {
          "base_uri": "https://localhost:8080/"
        },
        "id": "0smKCfs6fwoi",
        "outputId": "898459a2-0233-49d7-e430-67ebc0037bdd"
      },
      "outputs": [
        {
          "name": "stdout",
          "output_type": "stream",
          "text": [
            "data\n",
            "data\n",
            "data\n",
            "data\n",
            "data\n"
          ]
        }
      ],
      "source": [
        "for i in range (0,5):\n",
        "  if True:\n",
        "    print(\"data\")"
      ]
    },
    {
      "cell_type": "code",
      "execution_count": 56,
      "metadata": {
        "colab": {
          "base_uri": "https://localhost:8080/"
        },
        "id": "qhKXQjpufxQ0",
        "outputId": "52855bde-4f1d-4eba-e184-baea89cddb0e"
      },
      "outputs": [
        {
          "name": "stdout",
          "output_type": "stream",
          "text": [
            "\n",
            "*\n",
            "**\n",
            "***\n",
            "****\n",
            "*****\n",
            "******\n"
          ]
        }
      ],
      "source": [
        "for i in range(0,7,1):\n",
        "  print(i*\"*\")"
      ]
    },
    {
      "cell_type": "code",
      "execution_count": 57,
      "metadata": {
        "colab": {
          "base_uri": "https://localhost:8080/"
        },
        "id": "zMK8nJVCfxT1",
        "outputId": "b6daa588-33a2-4c08-fa60-d8cfe69f0066"
      },
      "outputs": [
        {
          "name": "stdout",
          "output_type": "stream",
          "text": [
            "\n",
            "**\n",
            "****\n"
          ]
        }
      ],
      "source": [
        "for i in range(0,6,2):\n",
        "  print(i*\"*\")"
      ]
    },
    {
      "cell_type": "code",
      "execution_count": 74,
      "metadata": {
        "colab": {
          "base_uri": "https://localhost:8080/"
        },
        "id": "mLGVVSTPfxld",
        "outputId": "e86c73d0-00ec-4486-e6fc-50904f452828"
      },
      "outputs": [
        {
          "name": "stdout",
          "output_type": "stream",
          "text": [
            "*\n",
            "**\n",
            "***\n",
            "****\n",
            "*****\n",
            "*****\n",
            "****\n",
            "***\n",
            "**\n",
            "*\n"
          ]
        }
      ],
      "source": [
        " for i in range(1,6):\n",
        "  print(i*\"*\")\n",
        "for j in range(5,0,-1):\n",
        "    print(j*\"*\")\n"
      ]
    },
    {
      "cell_type": "code",
      "execution_count": 79,
      "metadata": {
        "colab": {
          "base_uri": "https://localhost:8080/"
        },
        "id": "br8HPaI_7jal",
        "outputId": "16db2b6d-2e2b-4831-ded3-a2b1b62acb54"
      },
      "outputs": [
        {
          "data": {
            "text/plain": [
              "[1, 2, 3, 4]"
            ]
          },
          "execution_count": 79,
          "metadata": {},
          "output_type": "execute_result"
        }
      ],
      "source": [
        "x=[1,2,3,4,5]\n",
        "x[0:4]\n",
        "\n"
      ]
    },
    {
      "cell_type": "code",
      "execution_count": 81,
      "metadata": {
        "colab": {
          "base_uri": "https://localhost:8080/"
        },
        "id": "cNdrSZvD855U",
        "outputId": "a92b9453-1bc0-4975-b541-e7e884db2b61"
      },
      "outputs": [
        {
          "name": "stdout",
          "output_type": "stream",
          "text": [
            "d\n",
            "da\n",
            "dat\n",
            "data\n"
          ]
        }
      ],
      "source": [
        "x=\"data\"\n",
        "for i in range(1,5):\n",
        "  print(x[0:i])"
      ]
    },
    {
      "cell_type": "code",
      "execution_count": 86,
      "metadata": {
        "colab": {
          "base_uri": "https://localhost:8080/"
        },
        "id": "ZfnQHMug_m1j",
        "outputId": "916b42fd-b08e-4a4b-97ba-d4b57af17b85"
      },
      "outputs": [
        {
          "name": "stdout",
          "output_type": "stream",
          "text": [
            "d\n",
            "da\n",
            "dat\n",
            "data\n"
          ]
        }
      ],
      "source": [
        "x=\"data ruihfjgfgghk gaahjlhffjffj\"\n",
        "for i in range (1,5):\n",
        "  print(x[0:i])"
      ]
    },
    {
      "cell_type": "code",
      "execution_count": 87,
      "metadata": {
        "colab": {
          "base_uri": "https://localhost:8080/"
        },
        "id": "7ZaZb9NY85qp",
        "outputId": "7600ba4f-64da-45d7-fdd7-db0d28f8e5bd"
      },
      "outputs": [
        {
          "name": "stdout",
          "output_type": "stream",
          "text": [
            "d\n",
            "da\n",
            "dat\n",
            "data\n",
            "data \n",
            "data r\n",
            "data ru\n",
            "data rui\n",
            "data ruih\n",
            "data ruihf\n",
            "data ruihfj\n",
            "data ruihfjg\n",
            "data ruihfjgf\n",
            "data ruihfjgfg\n",
            "data ruihfjgfgg\n",
            "data ruihfjgfggh\n",
            "data ruihfjgfgghk\n",
            "data ruihfjgfgghk \n",
            "data ruihfjgfgghk g\n",
            "data ruihfjgfgghk ga\n",
            "data ruihfjgfgghk gaa\n",
            "data ruihfjgfgghk gaah\n",
            "data ruihfjgfgghk gaahj\n",
            "data ruihfjgfgghk gaahjl\n",
            "data ruihfjgfgghk gaahjlh\n",
            "data ruihfjgfgghk gaahjlhf\n",
            "data ruihfjgfgghk gaahjlhff\n",
            "data ruihfjgfgghk gaahjlhffj\n",
            "data ruihfjgfgghk gaahjlhffjf\n",
            "data ruihfjgfgghk gaahjlhffjff\n"
          ]
        }
      ],
      "source": [
        "x=\"data ruihfjgfgghk gaahjlhffjffj\"\n",
        "for i in range(1,len(x)):\n",
        "  print(x[0:i])"
      ]
    }
  ],
  "metadata": {
    "colab": {
      "name": "Welcome to Colab",
      "provenance": []
    },
    "kernelspec": {
      "display_name": "Python 3",
      "name": "python3"
    }
  },
  "nbformat": 4,
  "nbformat_minor": 0
}
